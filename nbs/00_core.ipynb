{
 "cells": [
  {
   "cell_type": "markdown",
   "metadata": {},
   "source": [
    "# core\n",
    "\n",
    "> A few core functionalities to work with data representing bill of materials"
   ]
  },
  {
   "cell_type": "code",
   "execution_count": null,
   "metadata": {},
   "outputs": [],
   "source": [
    "#| default_exp core"
   ]
  },
  {
   "cell_type": "code",
   "execution_count": null,
   "metadata": {},
   "outputs": [],
   "source": [
    "#| hide\n",
    "from nbdev.showdoc import *"
   ]
  },
  {
   "cell_type": "code",
   "execution_count": null,
   "metadata": {},
   "outputs": [],
   "source": [
    "#| export\n",
    "import pandas as pd\n",
    "import networkx as nx\n",
    "import matplotlib.pyplot as plt"
   ]
  },
  {
   "cell_type": "code",
   "execution_count": null,
   "metadata": {},
   "outputs": [],
   "source": [
    "#| export\n",
    "def get_sample_data():\n",
    "    \"\"\"\n",
    "    Return sample BOM data (df) and item attributes (df_attributes)\n",
    "    for demonstration purposes.\n",
    "    \"\"\"\n",
    "    import pandas as pd\n",
    "    \n",
    "    data = [\n",
    "        # Rotary Vane Pump (Oil-lubricated) - PUMP_RV1\n",
    "        ['PUMP_RV1', 'MOTOR_A1', 1],\n",
    "        ['PUMP_RV1', 'CASE_STD1', 1],\n",
    "        ['PUMP_RV1', 'VANE_ASM1', 1],\n",
    "        ['PUMP_RV1', 'OIL_SYSTEM1', 1],\n",
    "        ['VANE_ASM1', 'VANE_001', 6],\n",
    "        ['VANE_ASM1', 'BEARING_01', 2],\n",
    "\n",
    "        # Rotary Vane Pump (Dry-running) - PUMP_RV2\n",
    "        ['PUMP_RV2', 'MOTOR_A1', 1],\n",
    "        ['PUMP_RV2', 'CASE_STD1', 1],\n",
    "        ['PUMP_RV2', 'VANE_ASM2', 1],\n",
    "        ['VANE_ASM2', 'VANE_002', 6],\n",
    "        ['VANE_ASM2', 'BEARING_01', 2],\n",
    "\n",
    "        # Screw Pump - PUMP_SC1\n",
    "        ['PUMP_SC1', 'MOTOR_B1', 1],\n",
    "        ['PUMP_SC1', 'CASE_SC1', 1],\n",
    "        ['PUMP_SC1', 'SCREW_ASM1', 1],\n",
    "        ['SCREW_ASM1', 'SCREW_001', 2],\n",
    "        ['SCREW_ASM1', 'BEARING_02', 4],\n",
    "\n",
    "        # Claw Pump - PUMP_CL1\n",
    "        ['PUMP_CL1', 'MOTOR_A1', 1],\n",
    "        ['PUMP_CL1', 'CASE_CL1', 1],\n",
    "        ['PUMP_CL1', 'CLAW_ASM1', 1],\n",
    "        ['CLAW_ASM1', 'CLAW_001', 2],\n",
    "        ['CLAW_ASM1', 'BEARING_02', 4],\n",
    "    ]\n",
    "    df = pd.DataFrame(data, columns=['predecessor', 'successor', 'quantity'])\n",
    "\n",
    "    attributes_data = {\n",
    "        'id': [\n",
    "            'PUMP_RV1', 'PUMP_RV2', 'PUMP_SC1', 'PUMP_CL1',\n",
    "            'MOTOR_A1', 'MOTOR_B1',\n",
    "            'CASE_STD1', 'CASE_SC1', 'CASE_CL1',\n",
    "            'VANE_ASM1', 'VANE_ASM2', 'SCREW_ASM1', 'CLAW_ASM1',\n",
    "            'VANE_001', 'VANE_002', 'SCREW_001', 'CLAW_001',\n",
    "            'BEARING_01', 'BEARING_02',\n",
    "            'OIL_SYSTEM1'\n",
    "        ],\n",
    "        'component_type': [\n",
    "            'assembly', 'assembly', 'assembly', 'assembly',\n",
    "            'motor', 'motor',\n",
    "            'case', 'case', 'case',\n",
    "            'subassembly', 'subassembly', 'subassembly', 'subassembly',\n",
    "            'vane', 'vane', 'screw', 'claw',\n",
    "            'bearing', 'bearing',\n",
    "            'lubrication'\n",
    "        ],\n",
    "        'material': [\n",
    "            'mixed', 'mixed', 'mixed', 'mixed',\n",
    "            'steel/copper', 'steel/copper',\n",
    "            'cast_iron', 'steel', 'aluminum',\n",
    "            'mixed', 'mixed', 'mixed', 'mixed',\n",
    "            'ceramic', 'carbon', 'hardened_steel', 'hardened_steel',\n",
    "            'steel', 'ceramic',\n",
    "            'mixed'\n",
    "        ],\n",
    "        'weight_kg': [\n",
    "            45.0, 42.0, 55.0, 48.0,\n",
    "            12.5, 15.0,\n",
    "            18.0, 22.0, 15.0,\n",
    "            8.0, 7.5, 12.0, 10.0,\n",
    "            0.2, 0.15, 2.5, 2.0,\n",
    "            0.3, 0.25,\n",
    "            3.5\n",
    "        ],\n",
    "        'cost': [\n",
    "            2500, 2300, 3000, 2800,\n",
    "            800, 1000,\n",
    "            400, 600, 450,\n",
    "            300, 280, 450, 400,\n",
    "            50, 65, 150, 140,\n",
    "            30, 45,\n",
    "            150\n",
    "        ],\n",
    "        'supplier_code': [\n",
    "            'INTERNAL', 'INTERNAL', 'INTERNAL', 'INTERNAL',\n",
    "            'SUP_A', 'SUP_A',\n",
    "            'SUP_B', 'SUP_B', 'SUP_C',\n",
    "            'INTERNAL', 'INTERNAL', 'INTERNAL', 'INTERNAL',\n",
    "            'SUP_D', 'SUP_D', 'SUP_E', 'SUP_E',\n",
    "            'SUP_F', 'SUP_F',\n",
    "            'SUP_G'\n",
    "        ],\n",
    "        'procurement_days': [\n",
    "            0, 0, 0, 0,\n",
    "            14, 14,\n",
    "            7, 10, 7,\n",
    "            0, 0, 0, 0,\n",
    "            5, 5, 8, 8,\n",
    "            3, 3,\n",
    "            5\n",
    "        ],\n",
    "        'production_time_min': [\n",
    "            120, 110, 150, 130,\n",
    "            0, 0,\n",
    "            0, 0, 0,\n",
    "            45, 40, 60, 55,\n",
    "            0, 0, 0, 0,\n",
    "            0, 0,\n",
    "            0\n",
    "        ]\n",
    "    }\n",
    "    df_attributes = pd.DataFrame(attributes_data)\n",
    "\n",
    "    return df, df_attributes"
   ]
  },
  {
   "cell_type": "code",
   "execution_count": null,
   "metadata": {},
   "outputs": [],
   "source": [
    "df, df_attributes = get_sample_data()"
   ]
  },
  {
   "cell_type": "markdown",
   "metadata": {},
   "source": [
    "At this point, we have:\n",
    "\n",
    "- `df` – Bill of Materials table (predecessor, successor, quantity)\n",
    "- `df_attributes` – Item attributes table (component_type, cost, etc.)\n",
    "\n",
    "---\n",
    "\n",
    "## Core Functions\n",
    "\n",
    "We create one large directed graph containing **all** nodes and edges from `df`. For node attributes, we can optionally merge data from `df_attributes`."
   ]
  },
  {
   "cell_type": "code",
   "execution_count": null,
   "metadata": {},
   "outputs": [],
   "source": [
    "#| export\n",
    "def build_complete_graph(df, df_attributes=None):\n",
    "    \"\"\"\n",
    "    Build a directed graph (DiGraph) from the BOM DataFrame.\n",
    "    Optionally enrich nodes with attributes from df_attributes.\n",
    "    \"\"\"\n",
    "    G = nx.DiGraph()\n",
    "\n",
    "    # 1. Add edges and nodes based on the BOM\n",
    "    #    (NetworkX will automatically add the nodes for each edge)\n",
    "    for _, row in df.iterrows():\n",
    "        pred = row['predecessor']\n",
    "        succ = row['successor']\n",
    "        qty  = row['quantity']\n",
    "        G.add_edge(pred, succ, quantity=qty)\n",
    "\n",
    "    # 2. Optionally add node attributes\n",
    "    if df_attributes is not None:\n",
    "        # Create dict for quick lookup: {id: { 'component_type': ..., 'cost': ..., ... }}\n",
    "        attr_dict = df_attributes.set_index('id').to_dict('index')\n",
    "        for node in G.nodes():\n",
    "            if node in attr_dict:\n",
    "                for k, v in attr_dict[node].items():\n",
    "                    G.nodes[node][k] = v\n",
    "\n",
    "    return G"
   ]
  },
  {
   "cell_type": "code",
   "execution_count": null,
   "metadata": {},
   "outputs": [
    {
     "name": "stdout",
     "output_type": "stream",
     "text": [
      "Number of nodes: 20\n",
      "Number of edges: 21\n"
     ]
    }
   ],
   "source": [
    "G = build_complete_graph(df, df_attributes)\n",
    "\n",
    "print(\"Number of nodes:\", G.number_of_nodes())\n",
    "print(\"Number of edges:\", G.number_of_edges())"
   ]
  },
  {
   "cell_type": "markdown",
   "metadata": {},
   "source": [
    "If we want to see which assemblies or products contain a given part, we can **move upwards** in the graph (following edges backwards)."
   ]
  },
  {
   "cell_type": "code",
   "execution_count": null,
   "metadata": {},
   "outputs": [],
   "source": [
    "#| export\n",
    "def get_all_predecessors(G, node_id):\n",
    "    \"\"\"\n",
    "    Return a list of all predecessors (ancestors) of `node_id`.\n",
    "    This effectively finds all assemblies or parent items that contain `node_id`.\n",
    "    \"\"\"\n",
    "    visited = []\n",
    "    queue = [node_id]\n",
    "    while queue:\n",
    "        current = queue.pop(0)\n",
    "        for p in G.predecessors(current):\n",
    "            if p not in visited:\n",
    "                visited.append(p)\n",
    "                queue.append(p)\n",
    "    return visited"
   ]
  },
  {
   "cell_type": "markdown",
   "metadata": {},
   "source": [
    "Now, we can answer questions like:\n",
    "> Where is component 'MOTOR_A1' installed?"
   ]
  },
  {
   "cell_type": "code",
   "execution_count": null,
   "metadata": {},
   "outputs": [
    {
     "data": {
      "text/plain": [
       "['PUMP_RV1', 'PUMP_RV2', 'PUMP_CL1']"
      ]
     },
     "execution_count": null,
     "metadata": {},
     "output_type": "execute_result"
    }
   ],
   "source": [
    "get_all_predecessors(G, 'MOTOR_A1')"
   ]
  },
  {
   "cell_type": "markdown",
   "metadata": {},
   "source": [
    "Similarly, we can move **down** the graph to find all sub-components or child items of a given product or assembly."
   ]
  },
  {
   "cell_type": "code",
   "execution_count": null,
   "metadata": {},
   "outputs": [],
   "source": [
    "#| export\n",
    "def get_all_successors(G, node_id):\n",
    "    \"\"\"\n",
    "    Return a list of all successors (descendants) of `node_id`.\n",
    "    This effectively finds the complete set of parts that make up `node_id`.\n",
    "    \"\"\"\n",
    "    visited = []\n",
    "    queue = [node_id]\n",
    "    while queue:\n",
    "        current = queue.pop(0)\n",
    "        for s in G.successors(current):\n",
    "            if s not in visited:\n",
    "                visited.append(s)\n",
    "                queue.append(s)\n",
    "    return visited"
   ]
  },
  {
   "cell_type": "markdown",
   "metadata": {},
   "source": [
    "Now, we can answer questions like:\n",
    "> What component are installed in 'PUMP_RV1'?"
   ]
  },
  {
   "cell_type": "code",
   "execution_count": null,
   "metadata": {},
   "outputs": [
    {
     "data": {
      "text/plain": [
       "['MOTOR_A1', 'CASE_STD1', 'VANE_ASM1', 'OIL_SYSTEM1', 'VANE_001', 'BEARING_01']"
      ]
     },
     "execution_count": null,
     "metadata": {},
     "output_type": "execute_result"
    }
   ],
   "source": [
    "get_all_successors(G, 'PUMP_RV1')"
   ]
  },
  {
   "cell_type": "markdown",
   "metadata": {},
   "source": [
    "We can select a sub_graph by giving a root node and then searching for all successors."
   ]
  },
  {
   "cell_type": "code",
   "execution_count": null,
   "metadata": {},
   "outputs": [],
   "source": [
    "#| export\n",
    "def select_subg_by_root(G, root_id):\n",
    "    nodes_of_interest = get_all_successors(G, root_id)  # or any other list of nodes\n",
    "    nodes_of_interest.append(root_id)  # don't forget to add the root if needed\n",
    "    return G.subgraph(nodes_of_interest)"
   ]
  },
  {
   "cell_type": "code",
   "execution_count": null,
   "metadata": {},
   "outputs": [
    {
     "data": {
      "text/plain": [
       "NodeView(('VANE_ASM1', 'VANE_001', 'MOTOR_A1', 'PUMP_RV1', 'OIL_SYSTEM1', 'CASE_STD1', 'BEARING_01'))"
      ]
     },
     "execution_count": null,
     "metadata": {},
     "output_type": "execute_result"
    }
   ],
   "source": [
    "sub_g = select_subg_by_root(G, 'PUMP_RV1')\n",
    "sub_g.nodes()"
   ]
  },
  {
   "cell_type": "markdown",
   "metadata": {},
   "source": [
    "For a **multipartite** (hierarchical) layout in NetworkX, each node must have a `level` attribute. The “level” is typically “0” for a root product, “1” for its direct children, “2” for those children’s children, etc. This function automatically detects the root(s) (any node with no incoming edges) and assigns levels by breadth-first search."
   ]
  },
  {
   "cell_type": "code",
   "execution_count": null,
   "metadata": {},
   "outputs": [],
   "source": [
    "#| export\n",
    "def get_all_roots(G):\n",
    "    '''Returns a list of nodes with no ingoing edges (root_nodes)'''\n",
    "    return [n for n in G.nodes() if G.in_degree(n) == 0]"
   ]
  },
  {
   "cell_type": "code",
   "execution_count": null,
   "metadata": {},
   "outputs": [],
   "source": [
    "#| export\n",
    "def add_levels(G):\n",
    "    '''Calculate levels starting from root'''\n",
    "    roots = get_all_roots(G)\n",
    "    if len(roots)==1:\n",
    "        root_id = roots[0]\n",
    "        levels = {root_id: 0}\n",
    "        queue = [(root_id, 0)]\n",
    "        while queue:\n",
    "            node, level = queue.pop(0)\n",
    "            for succ in G.successors(node):\n",
    "                if succ not in levels:\n",
    "                    levels[succ] = level + 1\n",
    "                    queue.append((succ, level + 1))\n",
    "        \n",
    "        nx.set_node_attributes(G, levels, 'level')\n",
    "    else:\n",
    "        print('Has multiple roots or no roots at all!')\n",
    "    return G"
   ]
  },
  {
   "cell_type": "code",
   "execution_count": null,
   "metadata": {},
   "outputs": [
    {
     "data": {
      "text/plain": [
       "[('VANE_ASM1', 1),\n",
       " ('VANE_001', 2),\n",
       " ('MOTOR_A1', 1),\n",
       " ('PUMP_RV1', 0),\n",
       " ('OIL_SYSTEM1', 1),\n",
       " ('CASE_STD1', 1),\n",
       " ('BEARING_01', 2)]"
      ]
     },
     "execution_count": null,
     "metadata": {},
     "output_type": "execute_result"
    }
   ],
   "source": [
    "sub_g = add_levels(sub_g)\n",
    "[(n[0],n[1]['level']) for n in sub_g.nodes(data=True)]"
   ]
  },
  {
   "cell_type": "markdown",
   "metadata": {},
   "source": [
    "The depth of the bill of materials can give us information about the depth of added value per product."
   ]
  },
  {
   "cell_type": "code",
   "execution_count": null,
   "metadata": {},
   "outputs": [
    {
     "data": {
      "text/plain": [
       "2"
      ]
     },
     "execution_count": null,
     "metadata": {},
     "output_type": "execute_result"
    }
   ],
   "source": [
    "max([n[1]['level'] for n in sub_g.nodes(data=True)])"
   ]
  },
  {
   "cell_type": "markdown",
   "metadata": {},
   "source": [
    "## Visualizing\n",
    "\n",
    "Finally, we create a plotting function that can handle:\n",
    "\n",
    "- Either a **multipartite** layout (if levels are assigned)\n",
    "- Or a **kamada_kawai** layout (force-directed)\n",
    "\n",
    "We also display edge attributes (`quantity`), and we allow parameter overrides (font size, node size, color, etc.) for quick styling changes."
   ]
  },
  {
   "cell_type": "code",
   "execution_count": null,
   "metadata": {},
   "outputs": [],
   "source": [
    "#| export\n",
    "def plot_graph(G, # NetworkX graph\n",
    "               layout='multipartite', # 'multipartite' or 'kamada_kawai'\n",
    "               figsize=(24, 12), \n",
    "               font_size=8, \n",
    "               node_size=1000, \n",
    "               node_color='lightblue', \n",
    "               direction='top_to_bottom', # if layout is multipartite the direction is top to bottom, to rotate set to None\n",
    "               label_rotation=45): #Rotation angle for node labels (in degrees)\n",
    "    \"\"\"Plot a graph with specified layout and styling.\"\"\"\n",
    "    \n",
    "    plt.figure(figsize=figsize)\n",
    "    \n",
    "    if layout == 'multipartite':\n",
    "        if 'level' not in G.nodes[list(G.nodes())[0]]: G = add_levels(G)\n",
    "        pos = nx.multipartite_layout(G, subset_key='level')\n",
    "        if direction == 'top_to_bottom': pos = {node: (y, -x) for node, (x, y) in pos.items()}\n",
    "    else: pos = nx.kamada_kawai_layout(G)\n",
    "    \n",
    "    nx.draw(G, pos,\n",
    "            with_labels=False,  # Disable default labels\n",
    "            font_size=font_size,\n",
    "            node_size=node_size,\n",
    "            node_color=node_color)\n",
    "    \n",
    "    for node, (x, y) in pos.items():\n",
    "        plt.text(x, y, s=node, fontsize=font_size, ha='center', va='center', rotation=label_rotation)\n",
    "    \n",
    "    edge_labels = nx.get_edge_attributes(G, 'quantity')\n",
    "    nx.draw_networkx_edge_labels(G, pos, edge_labels)\n",
    "    \n",
    "    plt.axis('off')\n",
    "    plt.show()"
   ]
  },
  {
   "cell_type": "code",
   "execution_count": null,
   "metadata": {},
   "outputs": [
    {
     "data": {
      "image/png": "[encoded data removed]",
      "text/plain": [
       "<Figure size 2400x1200 with 1 Axes>"
      ]
     },
     "metadata": {},
     "output_type": "display_data"
    }
   ],
   "source": [
    "plot_graph(sub_g)"
   ]
  },
  {
   "cell_type": "markdown",
   "metadata": {},
   "source": [
    "## Creating a binary matrix\n",
    "\n",
    "We can also create a binary matrix, with endproducts in the index and parts as columns. This is very helpful, for further analysis, like similarity searches and product clustering."
   ]
  },
  {
   "cell_type": "code",
   "execution_count": null,
   "metadata": {},
   "outputs": [],
   "source": [
    "#| export\n",
    "def create_binary_matrix(G, root_nodes=None):\n",
    "    '''Creates a binary matrix with endproducts as indices and parts as columns'''\n",
    "    if not root_nodes: \n",
    "        root_nodes = get_all_roots(G)\n",
    "    dfs = [pd.DataFrame({root: get_all_successors(G, root)}).stack() for root in root_nodes]\n",
    "    final_df = pd.concat(dfs).reset_index(level=-1)\n",
    "    final_df.columns = ['head', 'parts']\n",
    "    return final_df.assign(value=1).pivot_table(index='head', columns='parts', values='value', fill_value=0).astype(int)"
   ]
  },
  {
   "cell_type": "code",
   "execution_count": null,
   "metadata": {},
   "outputs": [
    {
     "data": {
      "application/vnd.jupyter.widget-view+json": {
       "model_id": "d53484c2ec83486e8cde5d0f4e136704",
       "version_major": 2,
       "version_minor": 0
      },
      "text/plain": [
       "  0%|          | 0/4 [00:00<?, ?it/s]"
      ]
     },
     "metadata": {},
     "output_type": "display_data"
    },
    {
     "data": {
      "text/html": [
       "<div>\n",
       "<style scoped>\n",
       "    .dataframe tbody tr th:only-of-type {\n",
       "        vertical-align: middle;\n",
       "    }\n",
       "\n",
       "    .dataframe tbody tr th {\n",
       "        vertical-align: top;\n",
       "    }\n",
       "\n",
       "    .dataframe thead th {\n",
       "        text-align: right;\n",
       "    }\n",
       "</style>\n",
       "<table border=\"1\" class=\"dataframe\">\n",
       "  <thead>\n",
       "    <tr style=\"text-align: right;\">\n",
       "      <th>parts</th>\n",
       "      <th>BEARING_01</th>\n",
       "      <th>BEARING_02</th>\n",
       "      <th>CASE_CL1</th>\n",
       "      <th>CASE_SC1</th>\n",
       "      <th>CASE_STD1</th>\n",
       "      <th>CLAW_001</th>\n",
       "      <th>CLAW_ASM1</th>\n",
       "      <th>MOTOR_A1</th>\n",
       "      <th>MOTOR_B1</th>\n",
       "      <th>OIL_SYSTEM1</th>\n",
       "      <th>SCREW_001</th>\n",
       "      <th>SCREW_ASM1</th>\n",
       "      <th>VANE_001</th>\n",
       "      <th>VANE_002</th>\n",
       "      <th>VANE_ASM1</th>\n",
       "      <th>VANE_ASM2</th>\n",
       "    </tr>\n",
       "    <tr>\n",
       "      <th>head</th>\n",
       "      <th></th>\n",
       "      <th></th>\n",
       "      <th></th>\n",
       "      <th></th>\n",
       "      <th></th>\n",
       "      <th></th>\n",
       "      <th></th>\n",
       "      <th></th>\n",
       "      <th></th>\n",
       "      <th></th>\n",
       "      <th></th>\n",
       "      <th></th>\n",
       "      <th></th>\n",
       "      <th></th>\n",
       "      <th></th>\n",
       "      <th></th>\n",
       "    </tr>\n",
       "  </thead>\n",
       "  <tbody>\n",
       "    <tr>\n",
       "      <th>PUMP_CL1</th>\n",
       "      <td>0</td>\n",
       "      <td>1</td>\n",
       "      <td>1</td>\n",
       "      <td>0</td>\n",
       "      <td>0</td>\n",
       "      <td>1</td>\n",
       "      <td>1</td>\n",
       "      <td>1</td>\n",
       "      <td>0</td>\n",
       "      <td>0</td>\n",
       "      <td>0</td>\n",
       "      <td>0</td>\n",
       "      <td>0</td>\n",
       "      <td>0</td>\n",
       "      <td>0</td>\n",
       "      <td>0</td>\n",
       "    </tr>\n",
       "    <tr>\n",
       "      <th>PUMP_RV1</th>\n",
       "      <td>1</td>\n",
       "      <td>0</td>\n",
       "      <td>0</td>\n",
       "      <td>0</td>\n",
       "      <td>1</td>\n",
       "      <td>0</td>\n",
       "      <td>0</td>\n",
       "      <td>1</td>\n",
       "      <td>0</td>\n",
       "      <td>1</td>\n",
       "      <td>0</td>\n",
       "      <td>0</td>\n",
       "      <td>1</td>\n",
       "      <td>0</td>\n",
       "      <td>1</td>\n",
       "      <td>0</td>\n",
       "    </tr>\n",
       "    <tr>\n",
       "      <th>PUMP_RV2</th>\n",
       "      <td>1</td>\n",
       "      <td>0</td>\n",
       "      <td>0</td>\n",
       "      <td>0</td>\n",
       "      <td>1</td>\n",
       "      <td>0</td>\n",
       "      <td>0</td>\n",
       "      <td>1</td>\n",
       "      <td>0</td>\n",
       "      <td>0</td>\n",
       "      <td>0</td>\n",
       "      <td>0</td>\n",
       "      <td>0</td>\n",
       "      <td>1</td>\n",
       "      <td>0</td>\n",
       "      <td>1</td>\n",
       "    </tr>\n",
       "    <tr>\n",
       "      <th>PUMP_SC1</th>\n",
       "      <td>0</td>\n",
       "      <td>1</td>\n",
       "      <td>0</td>\n",
       "      <td>1</td>\n",
       "      <td>0</td>\n",
       "      <td>0</td>\n",
       "      <td>0</td>\n",
       "      <td>0</td>\n",
       "      <td>1</td>\n",
       "      <td>0</td>\n",
       "      <td>1</td>\n",
       "      <td>1</td>\n",
       "      <td>0</td>\n",
       "      <td>0</td>\n",
       "      <td>0</td>\n",
       "      <td>0</td>\n",
       "    </tr>\n",
       "  </tbody>\n",
       "</table>\n",
       "</div>"
      ],
      "text/plain": [
       "parts     BEARING_01  BEARING_02  CASE_CL1  CASE_SC1  CASE_STD1  CLAW_001  \\\n",
       "head                                                                        \n",
       "PUMP_CL1           0           1         1         0          0         1   \n",
       "PUMP_RV1           1           0         0         0          1         0   \n",
       "PUMP_RV2           1           0         0         0          1         0   \n",
       "PUMP_SC1           0           1         0         1          0         0   \n",
       "\n",
       "parts     CLAW_ASM1  MOTOR_A1  MOTOR_B1  OIL_SYSTEM1  SCREW_001  SCREW_ASM1  \\\n",
       "head                                                                          \n",
       "PUMP_CL1          1         1         0            0          0           0   \n",
       "PUMP_RV1          0         1         0            1          0           0   \n",
       "PUMP_RV2          0         1         0            0          0           0   \n",
       "PUMP_SC1          0         0         1            0          1           1   \n",
       "\n",
       "parts     VANE_001  VANE_002  VANE_ASM1  VANE_ASM2  \n",
       "head                                                \n",
       "PUMP_CL1         0         0          0          0  \n",
       "PUMP_RV1         1         0          1          0  \n",
       "PUMP_RV2         0         1          0          1  \n",
       "PUMP_SC1         0         0          0          0  "
      ]
     },
     "execution_count": null,
     "metadata": {},
     "output_type": "execute_result"
    }
   ],
   "source": [
    "b_matrix = create_binary_matrix(G)\n",
    "b_matrix"
   ]
  },
  {
   "cell_type": "code",
   "execution_count": null,
   "metadata": {},
   "outputs": [],
   "source": [
    "#| hide\n",
    "import nbdev; nbdev.nbdev_export()"
   ]
  }
 ],
 "metadata": {
  "kernelspec": {
   "display_name": "python3",
   "language": "python",
   "name": "python3"
  }
 },
 "nbformat": 4,
 "nbformat_minor": 4
}
