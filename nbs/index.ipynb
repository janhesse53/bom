{
 "cells": [
  {
   "cell_type": "code",
   "execution_count": null,
   "metadata": {},
   "outputs": [],
   "source": [
    "#| hide\n",
    "from bom.core import *"
   ]
  },
  {
   "cell_type": "markdown",
   "metadata": {},
   "source": [
    "# bom\n",
    "\n",
    "> A few helpers to work with data representing bill of materials (bom).\n",
    "\n",
    "To see how i developed these functions in solveit, follow this link to my [GitHub Gist](https://gist.github.com/janhesse53/6331db2f61b833a20fb09c0892d547ba) or a little bit nicer rendered with [nbsanity](https://nbsanity.com/static/6f7bb5584a4bdfc90d27da451aa4927e/Parts_lists.html)."
   ]
  },
  {
   "cell_type": "markdown",
   "metadata": {},
   "source": [
    "## Developer Guide"
   ]
  },
  {
   "cell_type": "markdown",
   "metadata": {},
   "source": [
    "### Installation"
   ]
  },
  {
   "cell_type": "markdown",
   "metadata": {},
   "source": [
    "Install latest from the GitHub [repository][repo]:\n",
    "\n",
    "```sh\n",
    "$ pip install git+https://github.com/janhesse53/bom.git\n",
    "```\n",
    "\n",
    "or from [conda][conda]\n",
    "\n",
    "```sh\n",
    "$ conda install -c janhesse53 bom\n",
    "```\n",
    "\n",
    "or from [pypi][pypi]\n",
    "\n",
    "\n",
    "```sh\n",
    "$ pip install bom\n",
    "```\n",
    "\n",
    "\n",
    "[repo]: https://github.com/janhesse53/bom\n",
    "[docs]: https://janhesse53.github.io/bom/\n",
    "[pypi]: https://pypi.org/project/bom/\n",
    "[conda]: https://anaconda.org/janhesse53/bom"
   ]
  },
  {
   "cell_type": "markdown",
   "metadata": {},
   "source": [
    "### Documentation"
   ]
  },
  {
   "cell_type": "markdown",
   "metadata": {},
   "source": [
    "Documentation can be found hosted on this GitHub [repository][repo]'s [pages][docs]. Additionally you can find package manager specific guidelines on [conda][conda] and [pypi][pypi] respectively.\n",
    "\n",
    "[repo]: https://github.com/janhesse53/bom\n",
    "[docs]: https://janhesse53.github.io/bom/\n",
    "[pypi]: https://pypi.org/project/bom/\n",
    "[conda]: https://anaconda.org/janhesse53/bom"
   ]
  },
  {
   "cell_type": "markdown",
   "metadata": {},
   "source": [
    "## How to use"
   ]
  },
  {
   "cell_type": "code",
   "execution_count": null,
   "metadata": {},
   "outputs": [],
   "source": [
    "df, df_attributes = get_sample_data()"
   ]
  },
  {
   "cell_type": "markdown",
   "metadata": {},
   "source": [
    "Build the complete graph from df (optionally merging df_attributes):"
   ]
  },
  {
   "cell_type": "code",
   "execution_count": null,
   "metadata": {},
   "outputs": [
    {
     "name": "stdout",
     "output_type": "stream",
     "text": [
      "Number of nodes: 20\n",
      "Number of edges: 21\n"
     ]
    }
   ],
   "source": [
    "G = build_complete_graph(df, df_attributes)\n",
    "\n",
    "# Let's confirm the number of nodes (20 unique items)\n",
    "print(\"Number of nodes:\", G.number_of_nodes())\n",
    "print(\"Number of edges:\", G.number_of_edges())"
   ]
  },
  {
   "cell_type": "markdown",
   "metadata": {},
   "source": [
    "Often, we only want to visualize **one** product (like `PUMP_RV2`) and its sub-components:"
   ]
  },
  {
   "cell_type": "code",
   "execution_count": null,
   "metadata": {},
   "outputs": [
    {
     "data": {
      "text/plain": [
       "NodeView(('MOTOR_A1', 'CASE_STD1', 'PUMP_RV2', 'BEARING_01', 'VANE_002', 'VANE_ASM2'))"
      ]
     },
     "execution_count": null,
     "metadata": {},
     "output_type": "execute_result"
    }
   ],
   "source": [
    "sub_g = select_subg_by_root(G, 'PUMP_RV2')\n",
    "sub_g.nodes()"
   ]
  },
  {
   "cell_type": "code",
   "execution_count": null,
   "metadata": {},
   "outputs": [
    {
     "data": {
      "text/plain": [
       "[('MOTOR_A1', 1),\n",
       " ('CASE_STD1', 1),\n",
       " ('PUMP_RV2', 0),\n",
       " ('BEARING_01', 2),\n",
       " ('VANE_002', 2),\n",
       " ('VANE_ASM2', 1)]"
      ]
     },
     "execution_count": null,
     "metadata": {},
     "output_type": "execute_result"
    }
   ],
   "source": [
    "sub_g = add_levels(sub_g)\n",
    "[(n[0],n[1]['level']) for n in sub_g.nodes(data=True)]"
   ]
  },
  {
   "cell_type": "code",
   "execution_count": null,
   "metadata": {},
   "outputs": [
    {
     "data": {
      "image/png": "[encoded data removed]",
      "text/plain": [
       "<Figure size 500x400 with 1 Axes>"
      ]
     },
     "metadata": {},
     "output_type": "display_data"
    }
   ],
   "source": [
    "plot_graph(sub_g, layout='multipartite', figsize=(5,4), font_size=8)"
   ]
  },
  {
   "cell_type": "markdown",
   "metadata": {},
   "source": [
    "### Graph Querying\n",
    "\n",
    "With the **complete graph**, we can answer many questions:"
   ]
  },
  {
   "cell_type": "markdown",
   "metadata": {},
   "source": [
    "**Which products contain a certain part?**  "
   ]
  },
  {
   "cell_type": "code",
   "execution_count": null,
   "metadata": {},
   "outputs": [
    {
     "data": {
      "text/plain": [
       "['VANE_ASM1', 'VANE_ASM2', 'PUMP_RV1', 'PUMP_RV2']"
      ]
     },
     "execution_count": null,
     "metadata": {},
     "output_type": "execute_result"
    }
   ],
   "source": [
    "get_all_predecessors(G, 'BEARING_01')"
   ]
  },
  {
   "cell_type": "markdown",
   "metadata": {},
   "source": [
    "**All sub-components of a certain product?**  "
   ]
  },
  {
   "cell_type": "code",
   "execution_count": null,
   "metadata": {},
   "outputs": [
    {
     "data": {
      "text/plain": [
       "['MOTOR_A1', 'CASE_CL1', 'CLAW_ASM1', 'CLAW_001', 'BEARING_02']"
      ]
     },
     "execution_count": null,
     "metadata": {},
     "output_type": "execute_result"
    }
   ],
   "source": [
    "get_all_successors(G, 'PUMP_CL1')"
   ]
  },
  {
   "cell_type": "markdown",
   "metadata": {},
   "source": [
    "**Edge attributes** (like `quantity`):  "
   ]
  },
  {
   "cell_type": "code",
   "execution_count": null,
   "metadata": {},
   "outputs": [
    {
     "name": "stdout",
     "output_type": "stream",
     "text": [
      "VANE_ASM1 --> VANE_001 [qty= 6 ]\n",
      "VANE_ASM1 --> BEARING_01 [qty= 2 ]\n",
      "VANE_ASM2 --> VANE_002 [qty= 6 ]\n",
      "VANE_ASM2 --> BEARING_01 [qty= 2 ]\n",
      "SCREW_ASM1 --> SCREW_001 [qty= 2 ]\n",
      "SCREW_ASM1 --> BEARING_02 [qty= 4 ]\n",
      "CLAW_ASM1 --> CLAW_001 [qty= 2 ]\n",
      "CLAW_ASM1 --> BEARING_02 [qty= 4 ]\n"
     ]
    }
   ],
   "source": [
    "for (u,v,d) in G.edges(data=True):\n",
    "  if 'quantity' in d and d['quantity'] > 1:\n",
    "      print(u, '-->', v, '[qty=', d['quantity'], ']')"
   ]
  },
  {
   "cell_type": "markdown",
   "metadata": {},
   "source": [
    "**Node attributes** (like `component_type`, `cost`):"
   ]
  },
  {
   "cell_type": "code",
   "execution_count": null,
   "metadata": {},
   "outputs": [
    {
     "name": "stdout",
     "output_type": "stream",
     "text": [
      "PUMP_RV1 cost= 2500\n",
      "MOTOR_A1 cost= 800\n",
      "CASE_STD1 cost= 400\n",
      "VANE_ASM1 cost= 300\n",
      "OIL_SYSTEM1 cost= 150\n",
      "VANE_001 cost= 50\n",
      "BEARING_01 cost= 30\n",
      "PUMP_RV2 cost= 2300\n",
      "VANE_ASM2 cost= 280\n",
      "VANE_002 cost= 65\n",
      "PUMP_SC1 cost= 3000\n",
      "MOTOR_B1 cost= 1000\n",
      "CASE_SC1 cost= 600\n",
      "SCREW_ASM1 cost= 450\n",
      "SCREW_001 cost= 150\n",
      "BEARING_02 cost= 45\n",
      "PUMP_CL1 cost= 2800\n",
      "CASE_CL1 cost= 450\n",
      "CLAW_ASM1 cost= 400\n",
      "CLAW_001 cost= 140\n"
     ]
    }
   ],
   "source": [
    "# Example: Print the cost of each node if it exists\n",
    "for n, attrs in G.nodes(data=True):\n",
    "  if 'cost' in attrs:\n",
    "      print(n, 'cost=', attrs['cost'])"
   ]
  }
 ],
 "metadata": {
  "kernelspec": {
   "display_name": "python3",
   "language": "python",
   "name": "python3"
  }
 },
 "nbformat": 4,
 "nbformat_minor": 4
}
